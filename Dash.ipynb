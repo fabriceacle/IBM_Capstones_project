{
 "cells": [
  {
   "cell_type": "code",
   "execution_count": 2,
   "metadata": {},
   "outputs": [],
   "source": [
    "# Import required libraries\n",
    "import pandas as pd\n",
    "import dash\n",
    "from dash import html as html\n",
    "from dash import dcc as dcc\n",
    "from dash.dependencies import Input, Output\n",
    "import plotly.express as px"
   ]
  },
  {
   "cell_type": "code",
   "execution_count": 3,
   "metadata": {},
   "outputs": [],
   "source": [
    "spacex_df = pd.read_csv(\"spacex_launch_dash.csv\")\n",
    "max_payload = spacex_df['Payload Mass (kg)'].max()\n",
    "min_payload = spacex_df['Payload Mass (kg)'].min()"
   ]
  },
  {
   "cell_type": "code",
   "execution_count": 4,
   "metadata": {},
   "outputs": [
    {
     "data": {
      "text/html": [
       "\n",
       "        <iframe\n",
       "            width=\"100%\"\n",
       "            height=\"650\"\n",
       "            src=\"http://127.0.0.1:8050/\"\n",
       "            frameborder=\"0\"\n",
       "            allowfullscreen\n",
       "            \n",
       "        ></iframe>\n",
       "        "
      ],
      "text/plain": [
       "<IPython.lib.display.IFrame at 0x1597086efa0>"
      ]
     },
     "metadata": {},
     "output_type": "display_data"
    }
   ],
   "source": [
    "# Create a dash application\n",
    "app = dash.Dash(__name__)\n",
    "\n",
    "# Create an app layout\n",
    "app.layout = html.Div(children=[html.H1('SpaceX Launch Records Dashboard',\n",
    "                                        style={'textAlign': 'center', 'color': '#503D36',\n",
    "                                               'font-size': 40}),\n",
    "                                \n",
    "                                # TASK 1: Add a dropdown list to enable Launch Site selection\n",
    "                                # The default select value is for ALL sites\n",
    "                                dcc.Dropdown(id='site-dropdown',\n",
    "                                    options=[\n",
    "                                    {'label': 'All Sites', 'value': 'ALL'},\n",
    "                                    {'label': 'CCAFS LC-40', 'value': 'CCAFS LC-40'},\n",
    "                                    {'label': 'CCAFS SLC-40', 'value': 'CCAFS SLC-40'},\n",
    "                                    {'label': 'KSC LC-39A', 'value': 'KSC LC-39A'},\n",
    "                                    {'label': 'VAFB SLC-4E', 'value': 'VAFB SLC-4E'},],\n",
    "                                    value='ALL',\n",
    "                                    placeholder=\"Select a Launch Site here\",\n",
    "                                    searchable=True ),\n",
    "                                \n",
    "                                html.Br(),\n",
    "\n",
    "                                # TASK 2: Add a pie chart to show the total successful launches count for all sites\n",
    "                                # If a specific launch site was selected, show the Success vs. Failed counts for the site\n",
    "                                html.Div(dcc.Graph(id='success-pie-chart')),\n",
    "                                html.Br(),\n",
    "                                \n",
    "                                html.P(\"Payload range (Kg):\"),\n",
    "                                \n",
    "                                # TASK 3: Add a slider to select payload range\n",
    "                                dcc.RangeSlider(id='payload-slider',\n",
    "                                                min=0, max=10000, step=1000,\n",
    "                                                marks={0: '0', 10000: '10000'},\n",
    "                                                value=[min_payload, max_payload]),\n",
    "                                \n",
    "                                # TASK 4: Add a scatter chart to show the correlation between payload and launch success\n",
    "                                html.Div(dcc.Graph(id='success-payload-scatter-chart')),\n",
    "\n",
    "\n",
    "\n",
    "                                ])\n",
    "                                \n",
    "# TASK 2:\n",
    "# Add a callback function for `site-dropdown` as input, `success-pie-chart` as output\n",
    "                            \n",
    "# Function decorator to specify function input and output\n",
    "@app.callback(Output(component_id='success-pie-chart', component_property='figure'),\n",
    "              Input(component_id='site-dropdown', component_property='value'))\n",
    "\n",
    "def get_pie_chart(entered_site):\n",
    "    if entered_site == 'ALL':\n",
    "       filtered_df = spacex_df[['Launch Site','class']]\n",
    "       filtered_df = filtered_df .groupby(['Launch Site'], as_index=False).sum()\n",
    "       fig = px.pie(filtered_df, values=filtered_df['class'], names=filtered_df['Launch Site'], title='Total Success Launches By Site')\n",
    "       return fig   \n",
    "    else:\n",
    "        # return the outcomes piechart for a selected site\n",
    "        filtered_df = spacex_df[spacex_df[\"Launch Site\"] == entered_site]\n",
    "        filtered_df = filtered_df[['class']].value_counts().reset_index().rename(columns={0: \"total\"})\n",
    "        fig = px.pie(filtered_df, values=filtered_df['total'], names=filtered_df['class'], \n",
    "                     title='Total Success Launches fo Site {}'.format(entered_site))                                                   \n",
    "        return fig                   \n",
    "                                \n",
    "# TASK 4:\n",
    "# Add a callback function for `site-dropdown` and `payload-slider` as inputs, `success-payload-scatter-chart` as output                                \n",
    "                                \n",
    "@app.callback(Output(component_id='success-payload-scatter-chart', component_property='figure'),\n",
    "              [Input(component_id='site-dropdown', component_property='value'),Input(component_id='payload-slider', component_property='value')])\n",
    "\n",
    "def get_scatter_chart(entered_site, entered_payload):\n",
    "    if entered_site == 'ALL':\n",
    "       fig = px.scatter(spacex_df, x =spacex_df['Payload Mass (kg)'], y =spacex_df['class'], color= spacex_df['Booster Version Category'], \n",
    "                 title='Correlation between succes rate and payload mass for all sites')\n",
    "       return fig   \n",
    "    else:\n",
    "        # return the outcomes piechart for a selected site\n",
    "        filtered_df = spacex_df[spacex_df[\"Launch Site\"] == entered_site]\n",
    "        fig = px.scatter(filtered_df, x= filtered_df['Payload Mass (kg)'], y = filtered_df['class'],\n",
    "                     color= filtered_df['Booster Version Category'], \n",
    "                     title='Correlation between succes rate and payload mass site {}'.format(entered_site))                                                   \n",
    "        return fig                                 \n",
    "                                \n",
    "                                \n",
    "                                \n",
    "                                \n",
    "                                \n",
    "                                                  \n",
    "                            \n",
    "                                \n",
    "\n",
    "if __name__ == '__main__':\n",
    "    app.run_server()"
   ]
  },
  {
   "cell_type": "code",
   "execution_count": null,
   "metadata": {},
   "outputs": [],
   "source": []
  }
 ],
 "metadata": {
  "kernelspec": {
   "display_name": "base",
   "language": "python",
   "name": "python3"
  },
  "language_info": {
   "codemirror_mode": {
    "name": "ipython",
    "version": 3
   },
   "file_extension": ".py",
   "mimetype": "text/x-python",
   "name": "python",
   "nbconvert_exporter": "python",
   "pygments_lexer": "ipython3",
   "version": "3.9.13"
  },
  "orig_nbformat": 4
 },
 "nbformat": 4,
 "nbformat_minor": 2
}
